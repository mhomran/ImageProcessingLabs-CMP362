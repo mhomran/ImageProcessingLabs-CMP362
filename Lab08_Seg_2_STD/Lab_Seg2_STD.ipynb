{
 "cells": [
  {
   "cell_type": "markdown",
   "metadata": {},
   "source": [
    "# Lab Segmentation 2"
   ]
  },
  {
   "cell_type": "code",
   "execution_count": null,
   "metadata": {},
   "outputs": [],
   "source": [
    "from commonfunctions import *\n",
    "%matplotlib inline\n",
    "%load_ext autoreload\n",
    "%autoreload 2\n",
    "from skimage.color import rgb2gray\n",
    "from skimage.color import rgba2rgb\n",
    "from skimage.exposure import rescale_intensity"
   ]
  },
  {
   "cell_type": "code",
   "execution_count": null,
   "metadata": {
    "scrolled": true
   },
   "outputs": [],
   "source": [
    "# experiment 1\n",
    "\n",
    "\n",
    "# img is gray scale\n",
    "def getThreshold(img):\n",
    "\n",
    "    if img.ndim == 3 and (img.shape)[2] == 3:\n",
    "        img = rgb2gray(img)\n",
    "        img = rescale_intensity(img, in_range=(0, 1.0), out_range=(0, 255))\n",
    "        img = img.astype(np.uint8)\n",
    "    elif img.ndim == 3 and (img.shape)[2] == 4:\n",
    "        img = rgba2rgb(img)\n",
    "        img = rgb2gray(img)\n",
    "        img = rescale_intensity(img, in_range=(0, 1.0), out_range=(0, 255))\n",
    "        img = img.astype(np.uint8)\n",
    "        \n",
    "    # calculate histogram\n",
    "    img_flat = img.flatten()\n",
    "    count = np.zeros(256, np.uint32)\n",
    "    for pixel in img_flat:\n",
    "        count[pixel] = count[pixel] + 1\n",
    "\n",
    "    # get cdf for histogram and pixels' grayscale\n",
    "    cdf = np.cumsum(count)\n",
    "\n",
    "    gs_count = np.zeros(256, np.uint32)\n",
    "    for gs in range(256):\n",
    "        gs_count[gs] = gs * count[gs]\n",
    "    gs_cdf = np.cumsum(gs_count)\n",
    "    \n",
    "    t_init = np.uint8(round(gs_cdf[255] / cdf[255]) if cdf[255] != 0 else 0)\n",
    "    l_mean = gs_cdf[t_init] / cdf[t_init] if cdf[t_init] != 0 else 0  \n",
    "    \n",
    "    h_mean =  (gs_cdf[255] - gs_cdf[t_init]) / (cdf[255] - cdf[t_init]) if (cdf[255] - cdf[t_init]) != 0 else 0 \n",
    "    \n",
    "    new_t = np.uint8(round((l_mean + h_mean) / 2))\n",
    "    \n",
    "    old_t = t_init\n",
    "    while old_t != new_t:\n",
    "        old_t = new_t\n",
    "\n",
    "        l_mean = gs_cdf[old_t] / cdf[old_t] if cdf[old_t] != 0 else 0 \n",
    "\n",
    "        h_mean =  (gs_cdf[255] - gs_cdf[old_t]) / (cdf[255] - cdf[old_t]) if (cdf[255] - cdf[old_t]) != 0 else 0 \n",
    "    \n",
    "        new_t = np.uint8(round((l_mean + h_mean) / 2))\n",
    "\n",
    "    return new_t\n",
    "\n"
   ]
  },
  {
   "cell_type": "code",
   "execution_count": null,
   "metadata": {},
   "outputs": [],
   "source": [
    "for img_name in [\"book.png\", \"book1.png\", \"cameraman.png\", \"cufe.png\"]:\n",
    "    img = io.imread(img_name)\n",
    "    \n",
    "    th = getThreshold(img)\n",
    "    \n",
    "    if img.ndim == 3 and (img.shape)[2] == 3:\n",
    "        img = rgb2gray(img)\n",
    "        img = rescale_intensity(img, in_range=(0, 1.0), out_range=(0, 255))\n",
    "        img = img.astype(np.uint8)\n",
    "    elif img.ndim == 3 and (img.shape)[2] == 4:\n",
    "        img = rgba2rgb(img)\n",
    "        img = rgb2gray(img)\n",
    "        img = rescale_intensity(img, in_range=(0, 1.0), out_range=(0, 255))\n",
    "        img = img.astype(np.uint8)\n",
    "        \n",
    "    new_img = img > th\n",
    "\n",
    "    sectors = 4 # squares only\n",
    "    new_img_local = np.copy(img)\n",
    "    height = img.shape[0] // int(np.sqrt(sectors))\n",
    "    width = img.shape[1] // int(np.sqrt(sectors))\n",
    "    for sectorH in range(sectors//2):\n",
    "        for sectorW in range(sectors//2):\n",
    "            sub_img = img[height*sectorH:height*(sectorH+1), width*sectorW:width*(sectorW+1)]\n",
    "            th = getThreshold(sub_img)\n",
    "            \n",
    "            sub_img = (sub_img > th) * 255\n",
    "            \n",
    "            new_img_local[height*sectorH:height*(sectorH+1), width*sectorW:width*(sectorW+1)] = sub_img\n",
    "\n",
    "                \n",
    "    show_images([img, new_img, new_img_local], [\"original\", \"global_th\", \"local_th\"])\n",
    "    "
   ]
  }
 ],
 "metadata": {
  "kernelspec": {
   "display_name": "Python 3",
   "language": "python",
   "name": "python3"
  },
  "language_info": {
   "codemirror_mode": {
    "name": "ipython",
    "version": 3
   },
   "file_extension": ".py",
   "mimetype": "text/x-python",
   "name": "python",
   "nbconvert_exporter": "python",
   "pygments_lexer": "ipython3",
   "version": "3.8.5"
  }
 },
 "nbformat": 4,
 "nbformat_minor": 2
}
