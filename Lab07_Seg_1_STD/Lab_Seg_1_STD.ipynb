{
 "cells": [
  {
   "cell_type": "markdown",
   "metadata": {},
   "source": [
    "# Lab Segmentation 1"
   ]
  },
  {
   "cell_type": "code",
   "execution_count": null,
   "metadata": {},
   "outputs": [],
   "source": [
    "from commonfunctions import *\n",
    "%matplotlib inline\n",
    "%load_ext autoreload\n",
    "%autoreload 2"
   ]
  },
  {
   "cell_type": "code",
   "execution_count": null,
   "metadata": {},
   "outputs": [],
   "source": [
    "# 1- Read the image \n",
    "# [VERY IMPORTANT] and convert it to float: image = image.astype(float)\n",
    "\n",
    "# read image golf\n",
    "img = io.imread('imgs/exp1/golf.jpeg')\n",
    "original = img.copy()\n",
    "\n",
    "\n",
    "\n",
    "# 2- Retreive the 3 channels of the image(R,G,B) (will be used in the coming steps)\n",
    "img = img.astype(float)\n",
    "r = img[:,:,0]\n",
    "g = img[:,:,1]\n",
    "b = img[:,:,2]\n",
    "\n",
    "# 3- Visually (not by code) detect the dominating color channel (C) for the backgroung (R, G or B)\n",
    "#green\n",
    "\n",
    "# 4- Draw the dominating channel (r, g or b) thresholded by some threshold (to make sure your choice is meaningful)\n",
    "threshold=50\n",
    "required1 = g < threshold\n",
    "\n",
    "show_images([original, required1], [\"Original\", \"Bin\"])\n",
    "\n",
    "\n",
    "\n",
    "# 5- Get an intuitive way(There is a very simple way) to make a mask that can get the pixels where the values of the dominating channels have larger values than the other channels with an appropriate threshold\n",
    "\n",
    "threshold=10\n",
    "binarized=np.ones(img.shape)\n",
    "g_dom = 2 * g - (r + b) > threshold\n",
    "r_dom = 2 * r - (b + g) > threshold\n",
    "b_dom = 2 * b - (r + g) > threshold\n",
    "g_sum = np.sum(g_dom)\n",
    "r_sum = np.sum(r_dom)\n",
    "b_sum = np.sum(b_dom)\n",
    "\n",
    "m = max(g_sum, r_sum, b_sum)\n",
    "if g_sum == m:\n",
    "    binarized[g_dom]=0\n",
    "elif b_sum == m:\n",
    "    binarized[b_dom]=0\n",
    "else:\n",
    "     binarized[r_dom]=0\n",
    "\n",
    "show_images([original, binarized], [\"Original\", \"binarized\"])\n",
    "\n",
    "\n",
    "\n",
    "\n",
    "\n"
   ]
  },
  {
   "cell_type": "code",
   "execution_count": null,
   "metadata": {},
   "outputs": [],
   "source": [
    "# 1- Get the required RGB color (Using a color picker)\n",
    "req_color = (70, 115, 30)\n",
    "thresh = 40\n",
    "\n",
    "# 2- Read image\n",
    "img = io.imread('imgs/exp2/cufe.png')\n",
    "original = img.copy()\n",
    "\n",
    "# 3- extract R, G and B channels (as float)\n",
    "img = img.astype(float)\n",
    "r = img[:,:,0]\n",
    "g = img[:,:,1]\n",
    "b = img[:,:,2]\n",
    "\n",
    "# 4- calculate differences FOR EACH CHANNEL (between the image and the required pixel value)\n",
    "diff_r = abs(req_color[0] - r)\n",
    "diff_g = abs(req_color[1] - g)\n",
    "diff_b = abs(req_color[2] - b)\n",
    "\n",
    "# 5- calculate overall distance from the given RGB color (use any appropriate distance measure, take care of the minus distances)\n",
    "dist = np.sqrt(diff_b ** 2 + diff_g ** 2 + diff_r ** 2)\n",
    "\n",
    "# 6-  create a mask by thresholding the differences\n",
    "mask = dist < thresh\n",
    "\n",
    "# 7- In the input image, Replace the pixels of the mask with the following color\n",
    "img[mask] = (230, 90, 40)\n",
    "\n",
    "img = img.astype(int)\n",
    "\n",
    "# 8- show the image or save it\n",
    "show_images([original, img], [\"Original\", \"New\"])"
   ]
  },
  {
   "cell_type": "code",
   "execution_count": null,
   "metadata": {},
   "outputs": [],
   "source": []
  },
  {
   "cell_type": "code",
   "execution_count": null,
   "metadata": {},
   "outputs": [],
   "source": []
  }
 ],
 "metadata": {
  "kernelspec": {
   "display_name": "Python 3",
   "language": "python",
   "name": "python3"
  },
  "language_info": {
   "codemirror_mode": {
    "name": "ipython",
    "version": 3
   },
   "file_extension": ".py",
   "mimetype": "text/x-python",
   "name": "python",
   "nbconvert_exporter": "python",
   "pygments_lexer": "ipython3",
   "version": "3.8.5"
  }
 },
 "nbformat": 4,
 "nbformat_minor": 2
}
