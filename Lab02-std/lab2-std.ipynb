{
 "cells": [
  {
   "cell_type": "markdown",
   "metadata": {},
   "source": [
    "# Lab 2: Convolution & Discrete Fourier Transform"
   ]
  },
  {
   "cell_type": "code",
   "execution_count": null,
   "metadata": {},
   "outputs": [],
   "source": [
    "import commonfunctions as cf # this a custom module found the commonfunctions.py\n",
    "import skimage.io as io\n",
    "import matplotlib.pyplot as plt\n",
    "import numpy as np\n",
    "from skimage.color import rgb2gray\n",
    "from skimage.color import rgba2rgb\n",
    "from scipy import fftpack\n",
    "from scipy.signal import convolve2d\n",
    "from skimage.util import random_noise\n",
    "from skimage.exposure import rescale_intensity\n",
    "\n",
    "# Show the matlpotlib figures inside the notebook\n",
    "%matplotlib inline"
   ]
  },
  {
   "cell_type": "markdown",
   "metadata": {},
   "source": [
    "##### Helper functions:\n",
    "cf.show_images(images, titles=None)\n",
    "<br>\n",
    "Given a list of images and -(optionally)- a list of titles, it plots them using matplotlib with their respective titles "
   ]
  },
  {
   "cell_type": "markdown",
   "metadata": {},
   "source": [
    "### Part 1\n",
    "#### Understanding the Concept of Inverse DFT\n",
    "\n",
    "In this part, we will construct matrices in the frequency domain and see how they look in the 2D space domain"
   ]
  },
  {
   "cell_type": "code",
   "execution_count": null,
   "metadata": {},
   "outputs": [],
   "source": [
    "# This function maps matrices from frequency to space then plots them\n",
    "def plot_image_from_freq(freq_domain_mat):\n",
    "    inverse_fft_mat = fftpack.ifft2(freq_domain_mat) # Inverse FFT is a fast version of inverse DFT\n",
    "    # Due to approximations, the returned matrix contains complex numbers\n",
    "    # So, we get the magnitude to be able to plot the image\n",
    "    image = np.abs(inverse_fft_mat) \n",
    "\n",
    "    cf.show_images([image], titles=['Image in Space Domain'])"
   ]
  },
  {
   "cell_type": "code",
   "execution_count": null,
   "metadata": {
    "scrolled": true
   },
   "outputs": [],
   "source": [
    "# We will first try to construct a matrix in the frequency domain that makes a vertically moving ripple in the space domain\n",
    "\n",
    "freq_domain_mat = np.zeros([21,21])\n",
    "freq_domain_mat[9, 10] = 255 # The choice of the value '1' is arbitrary\n",
    "freq_domain_mat[11, 10] = 255\n",
    "plot_image_from_freq(freq_domain_mat)"
   ]
  },
  {
   "cell_type": "code",
   "execution_count": null,
   "metadata": {
    "scrolled": false
   },
   "outputs": [],
   "source": [
    "# TODO: construct a matrix in the frequency domain that makes a HORIZONTALLY moving ripple in the space domain\n",
    "\n",
    "freq_domain_mat = np.zeros([21,21])\n",
    "freq_domain_mat[10, 9] = 1\n",
    "freq_domain_mat[10, 11] = 1\n",
    "plot_image_from_freq(freq_domain_mat)"
   ]
  },
  {
   "cell_type": "code",
   "execution_count": null,
   "metadata": {},
   "outputs": [],
   "source": [
    "# Now a ripple moving diagonally\n",
    "freq_domain_mat = np.zeros([21,21])\n",
    "freq_domain_mat[9, 9] = 1\n",
    "freq_domain_mat[11, 11] = 1\n",
    "plot_image_from_freq(freq_domain_mat)"
   ]
  },
  {
   "cell_type": "markdown",
   "metadata": {},
   "source": [
    "We recommend you try to construct different matrices like the previous ones and see if their space domain representation is what you expect"
   ]
  },
  {
   "cell_type": "markdown",
   "metadata": {},
   "source": [
    "### Part 2\n",
    "#### Understanding Image Filtering in the Frequency Domain\n",
    "\n",
    "In this part, we will try to alter an image by multiplying it by a filter in the frequency domain."
   ]
  },
  {
   "cell_type": "code",
   "execution_count": null,
   "metadata": {},
   "outputs": [],
   "source": [
    "# This function applies a filter to an image in the frequency domain\n",
    "# and plots multiple images describing the process\n",
    "def apply_filter_in_freq(img, f):\n",
    "    img_in_freq = fftpack.fft2(img)\n",
    "    \n",
    "    # we supply the img shape here to make both the filter and img have the same shape to be able to multiply\n",
    "    filter_in_freq = fftpack.fft2(f, img.shape)\n",
    "    filtered_img_in_freq = np.multiply(img_in_freq, filter_in_freq)\n",
    "    filtered_img = fftpack.ifft2(filtered_img_in_freq)\n",
    "    temp = (abs(filtered_img.flatten()))\n",
    "    \n",
    "    cf.show_images([img,\n",
    "                fftpack.fftshift(np.log(np.abs(img_in_freq)+1)), # log for better intensity scale, \n",
    "                                                                 # shift to make zero freq at center\n",
    "                fftpack.fftshift(np.log(np.abs(filter_in_freq)+1)),\n",
    "                fftpack.fftshift(np.log(np.abs(filtered_img_in_freq)+1)),\n",
    "                np.abs(filtered_img)\n",
    "                ], ['Image', 'Image in Freq. Domain', 'Filter in Freq. Domain', 'Filtered Image in Freq. Domain', 'Filtered Image'])"
   ]
  },
  {
   "cell_type": "code",
   "execution_count": null,
   "metadata": {},
   "outputs": [],
   "source": [
    "for image in [\"imgs/bird.jpg\", \"imgs/circuit.tif\", \"imgs/Picture1.png\", \"imgs/Picture2.png\"]:\n",
    "   \n",
    "    # Let's try some filters on a sample image\n",
    "    img = io.imread(image)\n",
    "    \n",
    "    if img.ndim == 3 and (img.shape)[2] == 3:\n",
    "        img = rgb2gray(img)\n",
    "    elif img.ndim == 3 and (img.shape)[2] == 4:\n",
    "        img = rgba2rgb(img)\n",
    "        img = rgb2gray(img)\n",
    "    else:\n",
    "        img = rescale_intensity(img, in_range=(0, 255), out_range=(0, 1.0))\n",
    "        \n",
    "\n",
    "    # This is a low pass filter (more on that in the upcoming lectures)\n",
    "    f=np.array([\n",
    "        [1,2,1],\n",
    "        [2,4,2],\n",
    "        [1,2,1]\n",
    "    ])\n",
    "\n",
    "    apply_filter_in_freq(img, f)"
   ]
  },
  {
   "cell_type": "code",
   "execution_count": null,
   "metadata": {},
   "outputs": [],
   "source": [
    "\n",
    "# This is a high pass filter (more on that in the upcoming lectures)\n",
    "f=np.array([\n",
    "    [ 0,-1, 0],\n",
    "    [-1, 4,-1],\n",
    "    [ 0,-1, 0]\n",
    "])\n",
    "\n",
    "for image in [\"imgs/bird.jpg\", \"imgs/circuit.tif\", \"imgs/Picture1.png\", \"imgs/Picture2.png\"]:\n",
    "   \n",
    "    # Let's try some filters on a sample image\n",
    "    img = io.imread(image)\n",
    "    \n",
    "    if img.ndim == 3 and (img.shape)[2] == 3:\n",
    "        img = rgb2gray(img)\n",
    "    elif img.ndim == 3 and (img.shape)[2] == 4:\n",
    "        img = rgba2rgb(img)\n",
    "        img = rgb2gray(img)\n",
    "    else:\n",
    "        img = rescale_intensity(img, in_range=(0, 255), out_range=(0, 1.0))\n",
    "        \n",
    "    apply_filter_in_freq(img, f)"
   ]
  },
  {
   "cell_type": "markdown",
   "metadata": {},
   "source": [
    "#### TODO\n",
    "What happened to the filtered images in the two previous examples and why?\n",
    "Low pass filter: made the image blured. High pass filter: show the edges because the edges are in high frequency."
   ]
  },
  {
   "cell_type": "markdown",
   "metadata": {},
   "source": [
    "### Part 3\n",
    "#### Understanding Image Filtering in the Space Domain Through Convolution \n",
    "\n",
    "In this part, you are required to convolve a couple of filters on imgs/bird.jpg which are shown in the next figure.\n",
    "\n",
    "<img src='imgs/filters.png'></img>\n",
    "\n",
    "#### Functions you might need:\n",
    "-> convolve2d(img, f), for documentation: <br>\n",
    "\n",
    "Visit this link (https://docs.scipy.org/doc/scipy/reference/generated/scipy.signal.convolve2d.html)\n",
    "<br>\n",
    "Or\n",
    "<br>\n",
    "Press shift+tab after writing 'convolve2d' in a code cell\n",
    "\n",
    "-> random_noise(img, mode) (https://scikit-image.org/docs/dev/api/skimage.util.html#skimage.util.random_noise)"
   ]
  },
  {
   "cell_type": "code",
   "execution_count": null,
   "metadata": {
    "scrolled": true
   },
   "outputs": [],
   "source": [
    "# TODO: Construct the required filters (hint: you can do it as we did in the previous part)\n",
    "f1 = np.ones((3,3)) * (1/9)\n",
    "\n",
    "f2 = np.array([\n",
    "    [ 1,1, 1],\n",
    "    [1, -8,1],\n",
    "    [ 1,1, 1]\n",
    "])\n",
    "\n",
    "\n",
    "f3 = np.array([\n",
    "    [1, 1, 1],\n",
    "    [0, 0, 0],\n",
    "    [-1, -1, -1]\n",
    "])\n",
    "\n",
    "f4 = np.array([\n",
    "    [1, 0, -1],\n",
    "    [1, 0, -1],\n",
    "    [1, 0, -1]\n",
    "])\n",
    "    \n",
    "for image in [\"imgs/bird.jpg\", \"imgs/circuit.tif\", \"imgs/Picture1.png\", \"imgs/Picture2.png\"]:\n",
    "\n",
    "    # TODO: Read an image and convert it to grayscale\n",
    "    img = io.imread(image)\n",
    "    \n",
    "    if img.ndim == 3 and (img.shape)[2] == 3:\n",
    "        img = rgb2gray(img)\n",
    "    elif img.ndim == 3 and (img.shape)[2] == 4:\n",
    "        img = rgba2rgb(img)\n",
    "        img = rgb2gray(img)\n",
    "    else:\n",
    "        img = rescale_intensity(img, in_range=(0, 255), out_range=(0, 1.0))\n",
    "\n",
    "\n",
    "    # TODO: Apply noise to the image and save it in another variable\n",
    "    noisy_img = random_noise(img, mode=\"s&p\")\n",
    "\n",
    "\n",
    "    # TODO: Convolve the noisy image with f1 and the rest of the filters with the original image\n",
    "    img_f1 = convolve2d(noisy_img, f1, boundary=\"symm\")\n",
    "\n",
    "    img_f2 = convolve2d(img, f2, boundary=\"symm\")\n",
    "\n",
    "    img_f3 = convolve2d(img, f3, boundary=\"symm\")\n",
    "\n",
    "    img_f4 = convolve2d(img, f4, boundary=\"symm\")\n",
    "    \n",
    "    \n",
    "    # Show the images\n",
    "    cf.show_images([rescale_intensity(x, in_range=(0.0,1.0), out_range=(0, 255)) for x in [img,noisy_img, img_f1,img_f2,img_f3,img_f4]],['Original','Noisy Image', 'Filtered 1','Filtered 2','Filtered 3','Filtered 4'])"
   ]
  },
  {
   "cell_type": "markdown",
   "metadata": {},
   "source": [
    "What are the uses of these filters ?\n",
    "First one: averaging\n",
    "second one: edge detection.\n",
    "third: detecting horizontal edges.\n",
    "fourth: detecting vertical edges"
   ]
  },
  {
   "cell_type": "markdown",
   "metadata": {},
   "source": [
    "For the second filter, how can we make the output more descriptive? with increasing the filter size "
   ]
  },
  {
   "cell_type": "code",
   "execution_count": null,
   "metadata": {},
   "outputs": [],
   "source": [
    "image = np.array([\n",
    "    [5000, 0, 0],\n",
    "    [2500, 3500, 1500],\n",
    "    [0, 0, 0]\n",
    "])\n",
    "\n",
    "cf.show_images([image], [\"image\"])"
   ]
  },
  {
   "cell_type": "code",
   "execution_count": null,
   "metadata": {},
   "outputs": [],
   "source": []
  }
 ],
 "metadata": {
  "kernelspec": {
   "display_name": "Python 3",
   "language": "python",
   "name": "python3"
  },
  "language_info": {
   "codemirror_mode": {
    "name": "ipython",
    "version": 3
   },
   "file_extension": ".py",
   "mimetype": "text/x-python",
   "name": "python",
   "nbconvert_exporter": "python",
   "pygments_lexer": "ipython3",
   "version": "3.8.5"
  }
 },
 "nbformat": 4,
 "nbformat_minor": 2
}
