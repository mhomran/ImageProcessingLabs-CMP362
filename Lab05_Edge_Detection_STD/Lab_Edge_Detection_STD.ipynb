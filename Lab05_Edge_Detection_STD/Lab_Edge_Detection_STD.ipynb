{
 "cells": [
  {
   "cell_type": "code",
   "execution_count": null,
   "metadata": {},
   "outputs": [],
   "source": [
    "# Lab 4 - part2\n",
    "### Edge Detection\n",
    "\n",
    "https://github.com/scikit-image/scikit-image/blob/master/skimage/filters/edges.py\n",
    "\n",
    "http://scikit-image.org/docs/0.11.x/auto_examples/plot_edge_filter.html\n",
    "\n",
    "http://scikit-image.org/docs/dev/auto_examples/edges/plot_canny.html\n",
    "\n"
   ]
  },
  {
   "cell_type": "code",
   "execution_count": null,
   "metadata": {},
   "outputs": [],
   "source": [
    "from commonfunctions import *\n",
    "from skimage import filters\n",
    "import matplotlib.pyplot as plt\n",
    "from skimage import feature\n",
    "from skimage.filters import gaussian\n",
    "from scipy.signal import convolve2d\n",
    "from skimage.exposure import rescale_intensity\n",
    "%matplotlib inline\n",
    "%load_ext autoreload\n",
    "%autoreload 2\n"
   ]
  },
  {
   "cell_type": "code",
   "execution_count": null,
   "metadata": {},
   "outputs": [],
   "source": [
    "'''\n",
    "1. Built-in Sobel, Prewill, Roberts\n",
    "2. Custom Sobel (V-H-Both)\n",
    "3. Custom LoG\n",
    "'''"
   ]
  },
  {
   "cell_type": "code",
   "execution_count": null,
   "metadata": {},
   "outputs": [],
   "source": [
    "# 1. Built-in Sobel, Prewill, Roberts\n",
    "\n",
    "\n",
    "img = rgb2gray(io.imread('circuit.tif'))\n",
    "edge_roberts = filters.roberts(img)\n",
    "edge_sobel = filters.sobel(img)\n",
    "edge_sobel_h = filters.sobel_h(img)\n",
    "edge_sobel_v = filters.sobel_v(img)\n",
    "edge_prewitt = filters.prewitt(img)\n",
    "edge_canny = feature.canny(img, sigma=1)\n",
    "\n",
    "show_images([img, edge_roberts], [\"Original Image\", \"Robert Edge Detection\"])\n",
    "show_images([img, edge_sobel_v], [\"Original Image\", \"Sobel_v Edge Detection\"])\n",
    "show_images([img, edge_sobel_h], [\"Original Image\", \"Sobel_h Edge Detection\"])\n",
    "show_images([img, edge_sobel], [\"Original Image\", \"Sobel Edge Detection\"])\n",
    "show_images([img, edge_prewitt], [\"Original Image\", \"Prewitt Edge Detection\"])\n",
    "show_images([img, edge_canny], [\"Original Image\", \"Canny Edge Detection\"])\n",
    "\n"
   ]
  },
  {
   "cell_type": "code",
   "execution_count": null,
   "metadata": {},
   "outputs": [],
   "source": [
    "# 2. Custom Sobel (V-H-Both)\n",
    "\n",
    "from skimage.exposure import rescale_intensity\n",
    "\n",
    "def custom_sobel(img, thresh):\n",
    "    hy = [[-1,0,1],\n",
    "          [-2,0,2],\n",
    "          [-1,0,1]]\n",
    "    hx = [[-1,-2,-1],\n",
    "          [0,0,0],\n",
    "          [1,2,1]]\n",
    "    xComp = convolve2d(img, hx)\n",
    "    yComp = convolve2d(img, hy)\n",
    "    \n",
    "    edgeStrength = np.sqrt(xComp ** 2 + yComp ** 2)\n",
    "\n",
    "    \n",
    "    before_thresh = edgeStrength.copy()\n",
    "    for i in range(edgeStrength.shape[0]):\n",
    "        for j in range(edgeStrength.shape[1]):\n",
    "            if edgeStrength[i][j] > thresh:\n",
    "                edgeStrength[i][j] = 255\n",
    "            else:\n",
    "                edgeStrength[i][j] = 0\n",
    "    \n",
    "    show_images([img, xComp, yComp, before_thresh, edgeStrength], [\"Original\", \"X component\",\"Y component\", \"before_thresh\", \"edgeStrength\"])\n",
    "    \n",
    "    \n",
    "img = rgb2gray(io.imread(\"circuit.tif\"))\n",
    "custom_sobel(img, 128)"
   ]
  },
  {
   "cell_type": "code",
   "execution_count": null,
   "metadata": {},
   "outputs": [],
   "source": [
    "# 3. Custom LoG\n",
    "def apply_filter(img, f, sigma, thres):\n",
    "    img_g = gaussian(img, sigma) # apply the gaussian filter\n",
    "    \n",
    "    img_g_f = convolve2d(img_g, f, boundary=\"symm\") # apply the f filter\n",
    "    img_g_f_flat = img_g_f.flatten() # flatten\n",
    "    img_g_f_flat[[i for i in range(len(img_g_f_flat)) if img_g_f_flat[i] < 0]] = 0; # clip\n",
    "    img_g_f_flat[[i for i in range(len(img_g_f_flat)) if img_g_f_flat[i] > 1]] = 1; # clip\n",
    "    img_g_f = np.reshape(img_g_f_flat, img_g_f.shape)\n",
    "\n",
    "    img_g_f_flat = rescale_intensity(img_g_f_flat, in_range=(0, 1.0), out_range=(0, 255)) # rescale\n",
    "    img_g_f_flat = img_g_f_flat.astype(np.uint8) # cast\n",
    "    img_g_f_flat[[i for i in range(len(img_g_f_flat)) if img_g_f_flat[i] <= thres]] = 0 # apply threshold\n",
    "    img_g_f_flat[[i for i in range(len(img_g_f_flat)) if img_g_f_flat[i] > thres]] = 255 # apply threshold\n",
    "    img_g_f_th = np.reshape(img_g_f_flat, img_g_f.shape)\n",
    "    \n",
    "    return (img_g, img_g_f, img_g_f_th)\n",
    "\n",
    "thres = 2\n",
    "sigma = 2.8\n",
    "\n",
    "f1 = np.array([\n",
    "    [-1, -1, -1]  \n",
    "    ,[-1, 8, -1]   \n",
    "    ,[-1, -1, -1] \n",
    "])\n",
    "\n",
    "f2 = np.array([\n",
    "    [0, 1, 0]\n",
    "    ,[1, -4, 1] \n",
    "    ,[0, 1, 0]\n",
    "])\n",
    "\n",
    "img_g, img_g_f1, img_g_f1_th = apply_filter(img, f1, sigma, thres)\n",
    "img_g, img_g_f2, img_g_f2_th = apply_filter(img, f2, sigma, thres)\n",
    "\n",
    "\n",
    "show_images([img, img_g, img_g_f1, img_g_f1_th, img_g_f2, img_g_f2_th],\n",
    "            [\"img\", \"img_g\", \"img_g_f1\", \"img_g_f1_th\", \"img_g_f2\", \"img_g_f2_th\"])\n",
    "\n"
   ]
  },
  {
   "cell_type": "code",
   "execution_count": null,
   "metadata": {},
   "outputs": [],
   "source": [
    "'''\n",
    "Optional\n",
    "1-Make edge detection\n",
    "2-Multiply by factor < 1\n",
    "3-Subtract (Orginal Image) - (Edge Detection Image)\n",
    "'''"
   ]
  },
  {
   "cell_type": "code",
   "execution_count": null,
   "metadata": {},
   "outputs": [],
   "source": []
  },
  {
   "cell_type": "code",
   "execution_count": null,
   "metadata": {},
   "outputs": [],
   "source": []
  }
 ],
 "metadata": {
  "kernelspec": {
   "display_name": "Python 3",
   "language": "python",
   "name": "python3"
  },
  "language_info": {
   "codemirror_mode": {
    "name": "ipython",
    "version": 3
   },
   "file_extension": ".py",
   "mimetype": "text/x-python",
   "name": "python",
   "nbconvert_exporter": "python",
   "pygments_lexer": "ipython3",
   "version": "3.8.5"
  }
 },
 "nbformat": 4,
 "nbformat_minor": 2
}
