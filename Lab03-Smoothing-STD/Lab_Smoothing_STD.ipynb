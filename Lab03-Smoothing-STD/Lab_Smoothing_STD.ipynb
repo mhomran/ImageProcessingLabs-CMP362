{
 "cells": [
  {
   "cell_type": "markdown",
   "metadata": {},
   "source": [
    "# Lab 3\n",
    "### Averaging Filters\n",
    "\n",
    "http://scikit-image.org/docs/0.13.x/api/skimage.util.html#skimage.util.random_noise\n",
    "\n",
    "http://scikit-image.org/docs/dev/api/skimage.filters.html#skimage.filters.median\n",
    "\n",
    "http://scikit-image.org/docs/dev/api/skimage.filters.html#skimage.filters.gaussian"
   ]
  },
  {
   "cell_type": "code",
   "execution_count": null,
   "metadata": {},
   "outputs": [],
   "source": [
    "from commonfunctions import *\n",
    "import math\n",
    "\n",
    "%matplotlib inline\n",
    "%load_ext autoreload\n",
    "%autoreload 2"
   ]
  },
  {
   "cell_type": "code",
   "execution_count": null,
   "metadata": {},
   "outputs": [],
   "source": [
    "'''\n",
    "(1) Averaging Filter\n",
    "\n",
    "'''\n",
    "def gauss(name):\n",
    "    img = io.imread(name)\n",
    "    noisy_image = random_noise(img, 's&p')\n",
    "    sigma8 = gaussian(noisy_image, 8)\n",
    "    sigma3 = gaussian(noisy_image, 3)\n",
    "    sigma02 = gaussian(noisy_image, 0.2)\n",
    "    show_images([img, noisy_image, sigma8, sigma3, sigma02])\n",
    "\n",
    "for x in ['tire.tif', 'pout.tif']:\n",
    "        gauss(x)"
   ]
  },
  {
   "cell_type": "code",
   "execution_count": null,
   "metadata": {},
   "outputs": [],
   "source": [
    "'''\n",
    "(2) Median Filter\n",
    "'''\n",
    "def med(img):\n",
    "    colorArray = np.array((3,3))\n",
    "    newImage = np.copy(img)\n",
    "    \n",
    "    for i in range(1, img.shape[0]-1):\n",
    "        for j in range(1, img.shape[1]-1):\n",
    "            colorArray = img[i-1:i+2, j-1:j+2]\n",
    "            newImage[i][j] = np.median(colorArray, axis=None)\n",
    "            \n",
    "    return newImage\n",
    "\n",
    "for x in ['tire.tif', 'pout.tif']:\n",
    "    img = io.imread(x)\n",
    "    noisy_image = random_noise(img, 's&p')\n",
    "    \n",
    "    myMedian = med(img)\n",
    "    skiMedian = median(img)\n",
    "    show_images([img, myMedian, skiMedian])"
   ]
  },
  {
   "cell_type": "code",
   "execution_count": null,
   "metadata": {},
   "outputs": [],
   "source": []
  }
 ],
 "metadata": {
  "kernelspec": {
   "display_name": "Python 3",
   "language": "python",
   "name": "python3"
  },
  "language_info": {
   "codemirror_mode": {
    "name": "ipython",
    "version": 3
   },
   "file_extension": ".py",
   "mimetype": "text/x-python",
   "name": "python",
   "nbconvert_exporter": "python",
   "pygments_lexer": "ipython3",
   "version": "3.8.5"
  }
 },
 "nbformat": 4,
 "nbformat_minor": 2
}
